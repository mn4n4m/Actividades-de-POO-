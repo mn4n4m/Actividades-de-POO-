{
  "cells": [
    {
      "cell_type": "markdown",
      "metadata": {
        "id": "QNsy4oDxZE4X"
      },
      "source": [
        "<div style=\"text-align:center; font-size: 30px; font-weight: bold;\">\n",
        "    Actividad 1 Programación Orientada a Objetos<br>\n",
        "</div>\n",
        "\n",
        "<div style=\"text-align:center; font-size: 20px; font-weight: bold;\">\n",
        "    Martín Emilio Marín Gutiérrez<br>\n",
        "    CC. 1001250099<br>\n",
        "    Grupo 3 REMOTA<br>\n",
        "    Abril 2025\n",
        "</div>\n"
      ]
    },
    {
      "cell_type": "markdown",
      "metadata": {
        "id": "q8IfJpnIaPNn"
      },
      "source": [
        " A continuación se puede observar que cada ejercicio se cuentra solucionado en\n",
        " python. Cada ejercicio está separado por scripts de python debidamente nombrados como aparece en el enunciado de cada ejercicio"
      ]
    },
    {
      "cell_type": "markdown",
      "metadata": {
        "id": "5AHLfNPtak8B"
      },
      "source": [
        "### 1. Ejercicio Resuelto No 4 (Páginas 48)\n",
        "\n",
        "A la mamá de Juan le preguntan su edad, y contesta: tengo 3 hijos, pregúntele a Juan su\n",
        "edad. Alberto tiene 2/3 de la edad de Juan, Ana tiene 4/3 de la edad de Juan y mi edad es\n",
        "la suma de las tres. Hacer un algoritmo que muestre la edad de los cuatro."
      ]
    },
    {
      "cell_type": "code",
      "execution_count": 2,
      "metadata": {
        "colab": {
          "base_uri": "https://localhost:8080/"
        },
        "id": "dshibRSeJHpw",
        "outputId": "747be95c-d373-4d5b-bfa3-4ab28b26de6f"
      },
      "outputs": [
        {
          "name": "stdout",
          "output_type": "stream",
          "text": [
            "Ingrese la edad de Juan: 9\n",
            "\n",
            "LAS EDADES SON:\n",
            "ALBERTO: 6 años\n",
            "JUAN: 9 años\n",
            "ANA: 12 años\n",
            "MAMÁ: 27 años\n"
          ]
        }
      ],
      "source": [
        "# Ejercicio Resuelto No. 4\n",
        "# Calcular las edades de Alberto, Ana y la mamá, dadas la edad de Juan\n",
        "\n",
        "# Entrada de datos\n",
        "EDJUAN = float(input(\"Ingrese la edad de Juan: \"))\n",
        "\n",
        "# Proceso\n",
        "EDALBER = 2 * EDJUAN / 3\n",
        "EDANA = 4 * EDJUAN / 3\n",
        "EDMAMA = EDJUAN + EDALBER + EDANA\n",
        "\n",
        "# Salida\n",
        "print(\"\\nLAS EDADES SON:\")\n",
        "print(f\"ALBERTO: {EDALBER:.0f} años\")\n",
        "print(f\"JUAN: {EDJUAN:.0f} años\")\n",
        "print(f\"ANA: {EDANA:.0f} años\")\n",
        "print(f\"MAMÁ: {EDMAMA:.0f} años\")\n"
      ]
    },
    {
      "cell_type": "markdown",
      "metadata": {
        "id": "aZneEGh_dKZ8"
      },
      "source": [
        "### 2. Ejercicio Resuelto No 9 (Páginas 55)\n",
        "\n",
        "Escribir las estructuras que calculen y muestren el valor de X, de acuerdo con lo\n",
        "siguiente:\n",
        "X = 0 si Y < A y (A< B < C)\n",
        "X = 1 si A <= Y < B\n",
        "X = 2 si B <= Y < C\n",
        "X = 3 si C <= Y\n",
        "X = 4 si no se cumple ninguna de las condiciones anteriores."
      ]
    },
    {
      "cell_type": "code",
      "execution_count": 3,
      "metadata": {
        "colab": {
          "base_uri": "https://localhost:8080/"
        },
        "id": "TYUorAiDdPM2",
        "outputId": "6cd42e3b-a6d3-48b5-e557-94957d9071e9"
      },
      "outputs": [
        {
          "name": "stdout",
          "output_type": "stream",
          "text": [
            "Ingrese el valor de Y: 20\n",
            "Ingrese el valor de A: 10\n",
            "Ingrese el valor de B: 5\n",
            "Ingrese el valor de C: 2\n",
            "El valor de X es: 3\n"
          ]
        }
      ],
      "source": [
        "# Ejercicio Resuelto No. 9\n",
        "# Determinar el valor de X según condiciones sobre A, B, C y Y\n",
        "\n",
        "# Entrada de datos\n",
        "Y = float(input(\"Ingrese el valor de Y: \"))\n",
        "A = float(input(\"Ingrese el valor de A: \"))\n",
        "B = float(input(\"Ingrese el valor de B: \"))\n",
        "C = float(input(\"Ingrese el valor de C: \"))\n",
        "\n",
        "# Lógica condicional según el algoritmo propuesto\n",
        "if Y < A and A < B and B < C:\n",
        "    X = 0\n",
        "elif A <= Y < B:\n",
        "    X = 1\n",
        "elif B <= Y < C:\n",
        "    X = 2\n",
        "elif C <= Y:\n",
        "    X = 3\n",
        "else:\n",
        "    X = 4\n",
        "\n",
        "# Salida\n",
        "print(f\"El valor de X es: {X}\")\n"
      ]
    },
    {
      "cell_type": "markdown",
      "metadata": {
        "id": "DRHU0iVmduNf"
      },
      "source": [
        "### 3. Ejercicio Resuelto No 10 (Páginas 56)\n",
        "\n",
        "Cierta universidad para liquidar el pago de matrícula de un estudiante le exige los\n",
        "siguientes datos:\n",
        "\n",
        "\n",
        "• Número de inscripción\n",
        "\n",
        "• Nombres\n",
        "\n",
        "• Patrimonio.\n",
        "\n",
        "• Estrato social.\n",
        "\n",
        "La universidad cobra un valor constante para cada estudiante de $50.000. Si el patrimonio\n",
        "es mayor que $2´000.000 y el estrato superior a 3, se le incrementa un porcentaje del 3%\n",
        "sobre el patrimonio. Hacer un algoritmo que muestre:\n",
        "\n",
        "• Número de inscripción.\n",
        "\n",
        "• Nombres.\n",
        "\n",
        "• Pago de matrícula.\n",
        "\n",
        "**Análisis**\n",
        "Datos de entrada\n",
        "\n",
        "• Número de inscripción.\n",
        "\n",
        "• Nombres.\n",
        "\n",
        "• Patrimonio.\n",
        "\n",
        "• Estrato social.\n",
        "\n",
        "**Datos de salida**\n",
        "\n",
        "\n",
        "• Número de inscripción.\n",
        "\n",
        "• Nombres.\n",
        "\n",
        "• Pago por matrícula.\n",
        "\n",
        "**Proceso**\n",
        "\n",
        "Inicialmente se asume que el valor a pagar es el valor constante $50.000; se hace la\n",
        "comparación del patrimonio con 2´000.000 y del estrato con tres; en caso de ser cierta la\n",
        "condición al valor constante se le incrementa el 3% sobre el patrimonio. Este valor\n",
        "adicional se obtiene multiplicando el patrimonio por 3 y dividiéndolo sobre 100 ó, lo que\n",
        "sería lo mismo, multiplicar 0,03 por el patrimonio.\n",
        "\n",
        "**Definición de variables**\n",
        "\n",
        "NI: Número de inscripción.\n",
        "\n",
        "NOM: Nombres.\n",
        "\n",
        "PAT: Patrimonio.\n",
        "\n",
        "EST: Estrato social.\n",
        "\n",
        "PAGMAT: Pago por matrícula.\n",
        "\n"
      ]
    },
    {
      "cell_type": "code",
      "execution_count": 4,
      "metadata": {
        "colab": {
          "base_uri": "https://localhost:8080/"
        },
        "id": "RBd6rX9ReH_y",
        "outputId": "587b5ad0-cf05-4ac2-cf99-b0667eefc330"
      },
      "outputs": [
        {
          "name": "stdout",
          "output_type": "stream",
          "text": [
            "Ingrese el número de inscripción: 0001\n",
            "Ingrese el nombre del estudiante: JUAN PABLO\n",
            "Ingrese el patrimonio: 1500000\n",
            "Ingrese el estrato social: 4\n",
            "\n",
            "EL ESTUDIANTE CON NUMERO DE INSCRIPCIÓN 0001 Y NOMBRE JUAN PABLO DEBE PAGAR: $50,000\n"
          ]
        }
      ],
      "source": [
        "# Ejercicio Resuelto No. 10\n",
        "# Calcular el pago de matrícula según el patrimonio y estrato social\n",
        "\n",
        "# Entrada de datos\n",
        "NI = input(\"Ingrese el número de inscripción: \")\n",
        "NOM = input(\"Ingrese el nombre del estudiante: \")\n",
        "PAT = float(input(\"Ingrese el patrimonio: \"))\n",
        "EST = int(input(\"Ingrese el estrato social: \"))\n",
        "\n",
        "# Proceso\n",
        "PAGMAT = 50000\n",
        "if PAT > 2000000 and EST > 3:\n",
        "    PAGMAT += 0.03 * PAT\n",
        "\n",
        "# Salida\n",
        "print(f\"\\nEL ESTUDIANTE CON NUMERO DE INSCRIPCIÓN {NI} Y NOMBRE {NOM} DEBE PAGAR: ${PAGMAT:,.0f}\")\n"
      ]
    },
    {
      "cell_type": "markdown",
      "metadata": {
        "id": "K9USTjNbefBb"
      },
      "source": [
        "### 4. Ejercicio Resuelto No 11 (Páginas 57)\n",
        "\n",
        "Escribir un algoritmo que acepte tres números enteros diferentes y muestre el mayor de\n",
        "ellos.\n",
        "\n",
        "**Análisis**\n",
        "El enunciado aclara que no existen números iguales, por lo tanto existe un valor menor,\n",
        "uno medio y uno mayor.\n",
        "\n",
        "**Datos de entrada**\n",
        "\n",
        "• Los tres números. Estos deben almacenarse en variables distintas.\n",
        "Datos de salida\n",
        "\n",
        "• El valor del número mayor.\n",
        "\n",
        "**Proceso**\n",
        "\n",
        "Existen varias formas de encontrar el valor mayor entre un grupo de datos. Usted puede\n",
        "pensar y desarrollar una diferente a la aquí expuesta. El proceso a utilizar sería:\n",
        "\n",
        "    NUMERO1 será el mayor si:\n",
        "    (NUMERO1 > NUMERO2) ∧ (NUMERO1 > NUMERO3).\n",
        "    NUMERO2 será el mayor si:\n",
        "    (NUMERO2 > NUMERO1) ∧ (NUMERO2 > NUMERO3).\n",
        "    NUMERO3 será el mayor si:\n",
        "    (NUMERO3 > NUMERO1) ∧ (NUMERO3 > NUMERO2).\n",
        "\n",
        "**Definición de variables**\n",
        "\n",
        "N1: Valor del primer número a entrar.\n",
        "\n",
        "N2: Valor del segundo número.\n",
        "\n",
        "N3: Valor del tercer número.\n",
        "\n",
        "MAYOR: Variable que almacenará el valor mayor entre N1, N2 y N3.\n",
        "\n"
      ]
    },
    {
      "cell_type": "code",
      "execution_count": 5,
      "metadata": {
        "colab": {
          "base_uri": "https://localhost:8080/"
        },
        "id": "W71lQ0pVhyhH",
        "outputId": "b6b25e98-1eef-465a-efb3-dd250cdef8f5"
      },
      "outputs": [
        {
          "name": "stdout",
          "output_type": "stream",
          "text": [
            "Ingrese el primer número: 25\n",
            "Ingrese el segundo número: 26\n",
            "Ingrese el tercer número: 56\n",
            "EL VALOR MAYOR ENTRE: 25, 26 Y 56 ES: 56\n"
          ]
        }
      ],
      "source": [
        "\n",
        "2# Ejercicio Resuelto No. 11\n",
        "# Encontrar el número mayor entre tres números diferentes\n",
        "\n",
        "# Entrada de datos\n",
        "N1 = int(input(\"Ingrese el primer número: \"))\n",
        "N2 = int(input(\"Ingrese el segundo número: \"))\n",
        "N3 = int(input(\"Ingrese el tercer número: \"))\n",
        "\n",
        "# Proceso\n",
        "if N1 > N2 and N1 > N3:\n",
        "    MAYOR = N1\n",
        "elif N2 > N3:\n",
        "    MAYOR = N2\n",
        "else:\n",
        "    MAYOR = N3\n",
        "\n",
        "# Salida\n",
        "print(f\"EL VALOR MAYOR ENTRE: {N1}, {N2} Y {N3} ES: {MAYOR}\")\n"
      ]
    },
    {
      "cell_type": "markdown",
      "metadata": {
        "id": "-l8gJNOpirBF"
      },
      "source": [
        "### 5. Ejercicio Resuelto No 12 (Página 58)\n",
        "\n",
        "Determinar la cantidad de dinero recibida por un trabajador por concepto de las horas\n",
        "semanales trabajadas en una empresa, sabiendo que cuando las horas de trabajo exceden\n",
        "de 40, el resto se considera horas extras y se pagan al doble de una hora normal, cuando\n",
        "no exceden de 8; si las horas extras exceden de 8, se pagan las primeras 8 al doble de lo\n",
        "que se paga una hora normal y el resto al triple. Del trabajador se conocen los siguientes\n",
        "datos: nombres, número de horas trabajadas en la semana y valor recibido por una hora\n",
        "normal de trabajo.\n",
        "\n",
        "**Análisis**\n",
        "\n",
        "**Datos de entrada**\n",
        "\n",
        "• Nombres del trabajador.\n",
        "\n",
        "• Número de horas trabajadas.\n",
        "\n",
        "• Valor hora de trabajo.\n",
        "\n",
        "**Datos de salida**\n",
        "\n",
        "• Nombre del trabajador.\n",
        "\n",
        "• Salario devengado.\n",
        "\n",
        "**Proceso**\n",
        "\n",
        "Se compara el valor de las horas trabajadas con 40 que es la jornada normal.\n",
        "\n",
        "    SI horas trabajadas > 40\n",
        "      Se calculan las horas extras trabajadas como horas trabajadas - 40. Como los costos de\n",
        "      horas extras son distintos para la cantidad de horas superiores a 8, se debe comparar el\n",
        "      valor obtenido en horas extras con 8.\n",
        "    SI horas extras > 8 ENTONCES\n",
        "      Las horas extras excedentes de 8 serían: horas extras - 8. En este caso lo\n",
        "      percibido por el trabajador por concepto de horas extras sería:\n",
        "      Pago por horas extras = Pago por hora normal * 2 * 8 + pago por hora normal *\n",
        "      3 * horas extras excedentes de 8.\n",
        "    SINO\n",
        "      Pago por horas extras = Pago por horas normal *2*horas extras. El salario\n",
        "      devengado en este caso sería:\n",
        "      Salario = Pago por hora normal * 40 + Pago por horas extras.\n",
        "    SINO\n",
        "       En este caso las horas trabajadas durante la semana son menores o iguales a 40 (no\n",
        "       existen horas extras). Por lo tanto, lo devengado sería:\n",
        "       Salario = Horas trabajadas * valor hora normal.\n",
        "\n",
        "**Definición de variables**\n",
        "\n",
        "NOM: Nombre del trabajador.\n",
        "\n",
        "NHT: Número de horas trabajadas.\n",
        "\n",
        "VHN: Valor hora normal trabajada.\n",
        "\n",
        "HET: Horas extras trabajadas.\n",
        "\n",
        "HEE8: Horas extras que exceden de 8.\n",
        "\n",
        "SALARIO: Pago total que recibe el trabajador."
      ]
    },
    {
      "cell_type": "code",
      "execution_count": 6,
      "metadata": {
        "colab": {
          "base_uri": "https://localhost:8080/"
        },
        "id": "qqGhdhCAi99g",
        "outputId": "ef9247b8-a247-470e-d3f3-8d21e562b555"
      },
      "outputs": [
        {
          "name": "stdout",
          "output_type": "stream",
          "text": [
            "Ingrese el nombre del trabajador: ELIAS JOSE \n",
            "Ingrese el número de horas trabajadas en la semana: 53  \n",
            "Ingrese el valor por hora normal: 4000  \n",
            "\n",
            "EL TRABAJADOR ELIAS JOSE  DEVENGÓ: $284,000\n"
          ]
        }
      ],
      "source": [
        "# Ejercicio Resuelto No. 12\n",
        "# Calcular salario con horas normales, extras dobles y extras triples\n",
        "\n",
        "# Entrada de datos\n",
        "NOM = input(\"Ingrese el nombre del trabajador: \")\n",
        "NHT = int(input(\"Ingrese el número de horas trabajadas en la semana: \"))\n",
        "VHN = float(input(\"Ingrese el valor por hora normal: \"))\n",
        "\n",
        "# Proceso\n",
        "if NHT > 40:\n",
        "    HET = NHT - 40\n",
        "    if HET > 8:\n",
        "        HEE8 = HET - 8\n",
        "        SALARIO = 40 * VHN + 8 * 2 * VHN + HEE8 * 3 * VHN\n",
        "    else:\n",
        "        SALARIO = 40 * VHN + HET * 2 * VHN\n",
        "else:\n",
        "    SALARIO = NHT * VHN\n",
        "\n",
        "# Salida\n",
        "print(f\"\\nEL TRABAJADOR {NOM} DEVENGÓ: ${SALARIO:,.0f}\")\n"
      ]
    },
    {
      "cell_type": "markdown",
      "metadata": {
        "id": "htSxUUQcjQFR"
      },
      "source": [
        "### 6. Ejercicio Resuelto No 14 (Página 61)\n",
        "\n",
        "Una empresa con tres departamentos tiene establecido un plan de incentivos para sus\n",
        "vendedores. Al final del período, a cada departamento se le pide el importe global de las\n",
        "ventas.\n",
        "\n",
        " A los departamentos que excedan el 33% de las ventas totales se les adiciona al\n",
        "salario de los vendedores un porcentaje equivalente al 20% del salario mensual. Las\n",
        "nóminas de los tres departamentos son iguales. Si se tienen los siguientes datos:\n",
        "\n",
        "• Ventas del departamento 1\n",
        "\n",
        "• Ventas del departamento 2\n",
        "\n",
        "• Ventas del departamento 3\n",
        "\n",
        "• Salario de los vendedores de cada departamento\n",
        "\n",
        "Hacer un algoritmo que determine cuánto recibirán los vendedores de cada departamento\n",
        "al finalizar el período.\n",
        "\n",
        "**Análisis**\n",
        "\n",
        "**Datos de entrada**\n",
        "\n",
        "\n",
        "• Los tres importes de ventas de los departamentos.\n",
        "\n",
        "• Salario de los vendedores.\n",
        "\n",
        "**Datos de salida**\n",
        "\n",
        "• Valor recibido por salario en cada uno de los departamentos.\n",
        "Proceso\n",
        "\n",
        "Para poder obtener el 33% de las ventas totales, primero es necesario conocer el total de\n",
        "ventas de la empresa. Total de ventas = ventas depto 1 + ventas depto 2 + ventas depto 3.\n",
        "\n",
        "El 33% de las ventas totales o porcentaje sobre las ventas será: ventas totales * 0.33 o\n",
        "ventas totales * 33/100. Este porcentaje sirve para determinar si las ventas de un\n",
        "departamento superan este valor e indicará si los vendedores reciben o no un 20% más\n",
        "sobre su salario.\n",
        "\n",
        "    SI ventas de un departamento > porcentaje de ventas ENTONCES\n",
        "        salario recibido = salario + salario * 0.2;\n",
        "      SINO\n",
        "        salario recibido = salario\n",
        "    FIN_SI\n",
        "\n",
        " **Continuación**\n",
        "\n",
        "**Definición de variables**\n",
        "\n",
        "VD1: Ventas del departamento 1\n",
        "\n",
        "VD2: Ventas del departamento 2\n",
        "\n",
        "VD3: Ventas del departamento 3\n",
        "\n",
        "SALAR: Salario que reciben vendedores en cada departamento.\n",
        "\n",
        "TOTVEN: Total ventas en la empresa.\n",
        "\n",
        "PORVEN: Porcentaje equivalente al 33% de ventas totales.\n",
        "\n",
        "SALAR1: Salario de los vendedores en el depto. 1\n",
        "\n",
        "SALAR2: Salario de los vendedores en el depto. 2\n",
        "\n",
        "SALAR3: Salario de los vendedores en el depto. 3\n"
      ]
    },
    {
      "cell_type": "code",
      "execution_count": 7,
      "metadata": {
        "colab": {
          "base_uri": "https://localhost:8080/"
        },
        "id": "xS66lNorjRHd",
        "outputId": "997007f4-f2d4-49da-93f3-59ce956f123e"
      },
      "outputs": [
        {
          "name": "stdout",
          "output_type": "stream",
          "text": [
            "Ingrese las ventas del departamento 1: 4200000  \n",
            "Ingrese las ventas del departamento 2: 250000  \n",
            "Ingrese las ventas del departamento 3: 3300000  \n",
            "Ingrese el salario base de los vendedores: 380320\n",
            "\n",
            "SALARIO VENDEDORES DEPTO. 1: $456,384\n",
            "SALARIO VENDEDORES DEPTO. 2: $380,320\n",
            "SALARIO VENDEDORES DEPTO. 3: $456,384\n"
          ]
        }
      ],
      "source": [
        "# Ejercicio Resuelto No. 14\n",
        "# Calcular el salario final de los vendedores de cada departamento según el plan de incentivos\n",
        "\n",
        "# Entrada de datos\n",
        "VD1 = float(input(\"Ingrese las ventas del departamento 1: \"))\n",
        "VD2 = float(input(\"Ingrese las ventas del departamento 2: \"))\n",
        "VD3 = float(input(\"Ingrese las ventas del departamento 3: \"))\n",
        "SALAR = float(input(\"Ingrese el salario base de los vendedores: \"))\n",
        "\n",
        "# Cálculo del total de ventas y el 33% de ese total\n",
        "TOTVEN = VD1 + VD2 + VD3\n",
        "PORVEN = 0.33 * TOTVEN\n",
        "\n",
        "# Cálculo del salario final por departamento\n",
        "if VD1 > PORVEN:\n",
        "    SALAR1 = SALAR + 0.2 * SALAR\n",
        "else:\n",
        "    SALAR1 = SALAR\n",
        "\n",
        "if VD2 > PORVEN:\n",
        "    SALAR2 = SALAR + 0.2 * SALAR\n",
        "else:\n",
        "    SALAR2 = SALAR\n",
        "\n",
        "if VD3 > PORVEN:\n",
        "    SALAR3 = SALAR + 0.2 * SALAR\n",
        "else:\n",
        "    SALAR3 = SALAR\n",
        "\n",
        "# Salida\n",
        "print(f\"\\nSALARIO VENDEDORES DEPTO. 1: ${SALAR1:,.0f}\")\n",
        "print(f\"SALARIO VENDEDORES DEPTO. 2: ${SALAR2:,.0f}\")\n",
        "print(f\"SALARIO VENDEDORES DEPTO. 3: ${SALAR3:,.0f}\")\n"
      ]
    },
    {
      "cell_type": "markdown",
      "metadata": {
        "id": "rgkNphlDku9v"
      },
      "source": [
        "### 7. Ejercicio Resuelto No 15 (Página 63)\n",
        "\n",
        "Se tienen cuatro esferas (A, B, C, D) de las cuales se sabe que tres son de igual peso y una\n",
        "diferente. Elaborar un algoritmo que determine cuál es la esfera diferente y si es de mayor\n",
        "o menor peso.\n",
        "\n",
        "**Análisis**\n",
        "\n",
        "Datos de entrada\n",
        "• Peso de la esfera A\n",
        "• Peso de la esfera B\n",
        "• Peso de la esfera C\n",
        "• Peso de la esfera D\n",
        "\n",
        "**Datos de salida**\n",
        "\n",
        "• Mensaje que diga cuál es la esfera de diferente peso y si es de mayor o\n",
        "menor peso que las otras tres.\n",
        "\n",
        "**Proceso**\n",
        "\n",
        "El enunciado del problema afirma que existen tres esferas que tienen igual peso pero no\n",
        "se conocen, por lo tanto, es necesario averiguarlo. Si ya se\n",
        "Continuación\n",
        "tienen las tres esferas de igual peso, la restante es la diferente; para saber si es de mayor o\n",
        "menor peso que las otras, basta compararla con el peso de cualquiera de las otras tres.\n",
        "\n",
        "Las comparaciones posibles serán:\n",
        "\n",
        "\n",
        "    SI (peso de A = Peso de B) ∧ (peso de A = Peso de C), entonces\n",
        "     D es la diferente.  \n",
        "      SI peso de D es mayor que peso de A, entonces\n",
        "        D es de mayor peso;\n",
        "      SINO, D es de menor peso.\n",
        "    SINO\n",
        "      SI (peso de A = peso de B) ∧ (peso de A = peso de D), entonces\n",
        "        C es la diferente.\n",
        "          SI peso de C > peso de A, entonces\n",
        "             C es de mayor peso;\n",
        "           SINO, C es de menor peso.\n",
        "       SINO\n",
        "         SI (peso de A = peso de C) ∧ (peso de A = peso de D), B es la diferente.\n",
        "           SI peso de B > peso de D, entonces\n",
        "             B es de mayor peso;\n",
        "            SINO, B es de menor peso.\n",
        "        SINO, A es la diferente.\n",
        "          SI peso de A > peso de B, entonces\n",
        "             A es de mayor peso;\n",
        "           SINO, A es de menor peso.\n",
        "\n",
        "**Definición de variables**\n",
        "\n",
        "PESOA: Peso de la esfera A\n",
        "\n",
        "PESOB: Peso de la esfera B\n",
        "\n",
        "PESOC: Peso de la esfera C\n",
        "\n",
        "PESOD: Peso de la esfera D\n",
        "\n"
      ]
    },
    {
      "cell_type": "code",
      "execution_count": 10,
      "metadata": {
        "colab": {
          "base_uri": "https://localhost:8080/"
        },
        "id": "jGMIuXXqjkH-",
        "outputId": "22822644-747d-4acc-ab16-29a4d00b14eb"
      },
      "outputs": [
        {
          "name": "stdout",
          "output_type": "stream",
          "text": [
            "Ingrese el peso de la esfera A: 30\n",
            "Ingrese el peso de la esfera B: 54\n",
            "Ingrese el peso de la esfera C: 54\n",
            "Ingrese el peso de la esfera D: 54\n",
            "LA ESFERA A ES LA DIFERENTE Y ES DE MENOR PESO\n"
          ]
        }
      ],
      "source": [
        "# Ejercicio Resuelto No. 15\n",
        "# Determinar cuál esfera (A, B, C, D) es diferente en peso y si es de mayor o menor peso\n",
        "\n",
        "# Entrada de datos\n",
        "PESOA = float(input(\"Ingrese el peso de la esfera A: \"))\n",
        "PESOB = float(input(\"Ingrese el peso de la esfera B: \"))\n",
        "PESOC = float(input(\"Ingrese el peso de la esfera C: \"))\n",
        "PESOD = float(input(\"Ingrese el peso de la esfera D: \"))\n",
        "\n",
        "# Proceso y salida\n",
        "if PESOA == PESOB and PESOA == PESOC:\n",
        "    # D es la diferente\n",
        "    if PESOD > PESOA:\n",
        "        print(\"LA ESFERA D ES LA DIFERENTE Y ES DE MAYOR PESO\")\n",
        "    else:\n",
        "        print(\"LA ESFERA D ES LA DIFERENTE Y ES DE MENOR PESO\")\n",
        "elif PESOA == PESOB and PESOA == PESOD:\n",
        "    # C es la diferente\n",
        "    print(\"LA ESFERA C ES LA DIFERENTE\", end=\" \")\n",
        "    if PESOC > PESOA:\n",
        "        print(\"Y ES DE MAYOR PESO\")\n",
        "    else:\n",
        "        print(\"Y ES DE MENOR PESO\")\n",
        "elif PESOA == PESOC and PESOA == PESOD:\n",
        "    # B es la diferente\n",
        "    print(\"LA ESFERA B ES LA DIFERENTE\", end=\" \")\n",
        "    if PESOB > PESOD:\n",
        "        print(\"Y ES DE MAYOR PESO\")\n",
        "    else:\n",
        "        print(\"Y ES DE MENOR PESO\")\n",
        "else:\n",
        "    # A es la diferente\n",
        "    print(\"LA ESFERA A ES LA DIFERENTE\", end=\" \")\n",
        "    if PESOA > PESOB:\n",
        "        print(\"Y ES DE MAYOR PESO\")\n",
        "    else:\n",
        "        print(\"Y ES DE MENOR PESO\")\n"
      ]
    },
    {
      "cell_type": "markdown",
      "metadata": {
        "id": "_CmijrQgsBbC"
      },
      "source": [
        "### 8. Ejercicio Propuesto No 22 (Página 66)\n",
        "\n",
        "Elaborar un algoritmo que entre el nombre de un empleado, su salario básico por hora y el\n",
        "número de horas trabajadas en el mes; escriba su nombre y salario mensual si éste es mayor\n",
        "de $450.000, de lo contrario escriba sólo el nombre."
      ]
    },
    {
      "cell_type": "code",
      "execution_count": 11,
      "metadata": {
        "colab": {
          "base_uri": "https://localhost:8080/"
        },
        "id": "QY7cqciwr6KK",
        "outputId": "baef78ff-49ce-4316-b7a1-29ea11cfbd90"
      },
      "outputs": [
        {
          "name": "stdout",
          "output_type": "stream",
          "text": [
            "Ingrese el nombre del empleado: Ana María \n",
            "Ingrese el salario básico por hora: 6000  \n",
            "Ingrese el número de horas trabajadas en el mes: 80\n",
            "\n",
            "Empleado: Ana María \n",
            "Salario mensual: $480,000\n"
          ]
        }
      ],
      "source": [
        "# Ejercicio Propuesto No. 22\n",
        "# Mostrar nombre y salario mensual solo si es mayor a $450.000\n",
        "\n",
        "# Entrada de datos\n",
        "nombre = input(\"Ingrese el nombre del empleado: \")\n",
        "salario_hora = float(input(\"Ingrese el salario básico por hora: \"))\n",
        "horas_mes = int(input(\"Ingrese el número de horas trabajadas en el mes: \"))\n",
        "\n",
        "# Cálculo del salario mensual\n",
        "salario_mensual = salario_hora * horas_mes\n",
        "\n",
        "# Salida condicionada\n",
        "if salario_mensual > 450000:\n",
        "    print(f\"\\nEmpleado: {nombre}\")\n",
        "    print(f\"Salario mensual: ${salario_mensual:,.0f}\")\n",
        "else:\n",
        "    print(f\"\\nEmpleado: {nombre}\")\n"
      ]
    },
    {
      "cell_type": "markdown",
      "metadata": {
        "id": "-p_vI1jnsb3K"
      },
      "source": [
        "### 9. Ejercicio Propuesto No 32 (Página 66)\n",
        "\n",
        "Un almacén de escritorios hace los siguientes descuentos: si el cliente compra menos de 5\n",
        "unidades se le da un descuento del 10% sobre la compra; si el número de unidades es mayor\n",
        "o igual a cinco pero menos de 10 se le otorga un 20% y, si son 10 o más se le da un 40%.\n",
        "Hacer un algoritmo que determine cuánto debe pagar un cliente si el valor de cada escritorio\n",
        "es de $800.000.\n"
      ]
    },
    {
      "cell_type": "code",
      "execution_count": 12,
      "metadata": {
        "colab": {
          "base_uri": "https://localhost:8080/"
        },
        "id": "hCtges18slY4",
        "outputId": "50ef4a6f-a61e-49ce-c01b-7ad7d4a5ce2f"
      },
      "outputs": [
        {
          "name": "stdout",
          "output_type": "stream",
          "text": [
            "Ingrese la cantidad de escritorios que desea comprar: 7\n",
            "\n",
            "Cantidad de escritorios: 7\n",
            "Subtotal: $5,600,000\n",
            "Descuento aplicado: 20%\n",
            "Valor a pagar: $4,480,000\n"
          ]
        }
      ],
      "source": [
        "# Ejercicio Propuesto No. 32\n",
        "# Calcular el valor a pagar con descuentos según la cantidad de escritorios comprados\n",
        "\n",
        "# Constante del valor por escritorio\n",
        "valor_escritorio = 800000\n",
        "\n",
        "# Entrada de datos\n",
        "unidades = int(input(\"Ingrese la cantidad de escritorios que desea comprar: \"))\n",
        "\n",
        "# Cálculo del descuento\n",
        "if unidades < 5:\n",
        "    descuento = 0.10\n",
        "elif unidades < 10:\n",
        "    descuento = 0.20\n",
        "else:\n",
        "    descuento = 0.40\n",
        "\n",
        "# Cálculo total\n",
        "subtotal = unidades * valor_escritorio\n",
        "valor_descuento = subtotal * descuento\n",
        "total_pagar = subtotal - valor_descuento\n",
        "\n",
        "# Salida\n",
        "print(f\"\\nCantidad de escritorios: {unidades}\")\n",
        "print(f\"Subtotal: ${subtotal:,.0f}\")\n",
        "print(f\"Descuento aplicado: {descuento * 100:.0f}%\")\n",
        "print(f\"Valor a pagar: ${total_pagar:,.0f}\")\n"
      ]
    },
    {
      "cell_type": "markdown",
      "metadata": {
        "id": "Hlr35jZuszOh"
      },
      "source": [
        "### 10.Ejercicio Propuesto No 33 (Página 66)\n",
        "\n",
        "En un juego de preguntas que se responde “SI” o “NO”, gana quien responda correctamente\n",
        "las tres preguntas. Si se responde mal cualquiera de ellas, ya no se pregunta la siguiente y\n",
        "termina el juego. Las preguntas son:\n",
        "1. ¿Simón Bolívar libertó a Colombia?\n",
        "2. ¿Camilo Torres fue un guerrillero?\n",
        "3. ¿El Binomio de Oro es un grupo de música vallenata?\n",
        " Diseñe el registro de entrada."
      ]
    },
    {
      "cell_type": "code",
      "execution_count": 14,
      "metadata": {
        "colab": {
          "base_uri": "https://localhost:8080/"
        },
        "id": "RoW_ZZC4s36E",
        "outputId": "6526abb5-f83a-4609-bc08-a99793ccc449"
      },
      "outputs": [
        {
          "name": "stdout",
          "output_type": "stream",
          "text": [
            "Responda con 'SI' o 'NO' a las siguientes preguntas:\n",
            "1. ¿Simón Bolívar libertó a Colombia? si\n",
            "2. ¿Camilo Torres fue un guerrillero? si\n",
            "3. ¿El Binomio de Oro es un grupo de música vallenata? si\n",
            "\n",
            "¡Ganaste el juego! Respondiste correctamente las tres preguntas.\n"
          ]
        }
      ],
      "source": [
        "# Ejercicio Propuesto No. 33\n",
        "# Juego de preguntas: si se falla una, termina el juego\n",
        "\n",
        "print(\"Responda con 'SI' o 'NO' a las siguientes preguntas:\")\n",
        "\n",
        "# Pregunta 1\n",
        "respuesta1 = input(\"1. ¿Simón Bolívar libertó a Colombia? \").strip().upper()\n",
        "\n",
        "if respuesta1 == \"SI\":\n",
        "    # Pregunta 2\n",
        "    respuesta2 = input(\"2. ¿Camilo Torres fue un guerrillero? \").strip().upper()\n",
        "\n",
        "    if respuesta2 == \"SI\":\n",
        "        # Pregunta 3\n",
        "        respuesta3 = input(\"3. ¿El Binomio de Oro es un grupo de música vallenata? \").strip().upper()\n",
        "\n",
        "        if respuesta3 == \"SI\":\n",
        "            print(\"\\n¡Ganaste el juego! Respondiste correctamente las tres preguntas.\")\n",
        "        else:\n",
        "            print(\"\\nRespuesta incorrecta. ¡Fin del juego!\")\n",
        "    else:\n",
        "        print(\"\\nRespuesta incorrecta. ¡Fin del juego!\")\n",
        "else:\n",
        "    print(\"\\nRespuesta incorrecta. ¡Fin del juego!\")\n"
      ]
    }
  ],
  "metadata": {
    "colab": {
      "collapsed_sections": [
        "5AHLfNPtak8B",
        "aZneEGh_dKZ8",
        "-l8gJNOpirBF",
        "_CmijrQgsBbC",
        "-p_vI1jnsb3K",
        "Hlr35jZuszOh"
      ],
      "provenance": []
    },
    "kernelspec": {
      "display_name": "Python 3",
      "name": "python3"
    },
    "language_info": {
      "codemirror_mode": {
        "name": "ipython",
        "version": 3
      },
      "file_extension": ".py",
      "mimetype": "text/x-python",
      "name": "python",
      "nbconvert_exporter": "python",
      "pygments_lexer": "ipython3",
      "version": "3.11.9"
    }
  },
  "nbformat": 4,
  "nbformat_minor": 0
}
